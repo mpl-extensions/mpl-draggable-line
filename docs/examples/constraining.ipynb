{
 "cells": [
  {
   "cell_type": "markdown",
   "id": "12f0a331-de8d-4e43-82d3-fbbab7ec0d32",
   "metadata": {},
   "source": [
    "# Constraining Movement\n",
    "\n",
    "You can constrain the line to move only horizontally, or only vertically similar to matplotlib's `axhline` and `axhline`.\n",
    "\n",
    "There are two ways to accomplish this:\n",
    "\n",
    "## 1. `lock_x` and `lock_y`\n",
    "\n",
    "The `DraggableLine` has settable `lock_x` and `lock_y` properties which can be changed at any point to prevent or allow movement in `x` or `y` respectively.\n"
   ]
  },
  {
   "cell_type": "code",
   "execution_count": null,
   "id": "acf933a3-b38a-4959-b294-7e3461383dbd",
   "metadata": {
    "tags": []
   },
   "outputs": [],
   "source": [
    "# choose backend if in a jupyter notebook\n",
    "%matplotlib widget\n",
    "\n",
    "from __future__ import annotations\n"
   ]
  },
  {
   "cell_type": "code",
   "execution_count": null,
   "id": "27d5ad73-4e9d-4775-bf22-eed96c7629f8",
   "metadata": {
    "tags": []
   },
   "outputs": [],
   "source": [
    "import matplotlib.pyplot as plt\n",
    "from mpl_draggable_line import DraggableLine\n",
    "\n",
    "\n",
    "fig, ax = plt.subplots()\n",
    "\n",
    "init_x = [0.25, 0.5]\n",
    "init_y = [0.25, 0.5]\n",
    "dl = DraggableLine(ax, init_x, init_y)\n",
    "\n",
    "dl.lock_orientation = True\n",
    "\n",
    "# Freeze in x\n",
    "# dl.lock_x = True\n",
    "\n",
    "# Freeze in y\n",
    "# dl.lock_y = True\n",
    "plt.show()\n",
    "\n",
    "\n"
   ]
  },
  {
   "cell_type": "markdown",
   "id": "2d4407e5-4f3e-48c7-816c-c8a1a3ed32b0",
   "metadata": {},
   "source": [
    "## 2. `lock_orientation`\n",
    "\n",
    "Even with locking one of the dimensions you can still have unexpected behavior if you grab one the handles on the end of the lines. This will result in one handle moving, but constrained to either x or y. If you would instead like to move the entire line as a stiff object then you set `lock_orientation` to `True`"
   ]
  },
  {
   "cell_type": "code",
   "execution_count": null,
   "id": "6ba19d15-c1e8-4a0f-aef2-756a7148b131",
   "metadata": {},
   "outputs": [],
   "source": [
    "dl.lock_orientation = True"
   ]
  },
  {
   "cell_type": "markdown",
   "id": "5f9f411d-c507-46d9-80e8-27266735fdcc",
   "metadata": {},
   "source": [
    "You can always release the locks:"
   ]
  },
  {
   "cell_type": "code",
   "execution_count": null,
   "id": "ce806b3a-ca58-4810-a744-543178b62ef9",
   "metadata": {
    "tags": []
   },
   "outputs": [],
   "source": [
    "dl.lock_x = False\n",
    "dl.lock_orientation = False"
   ]
  },
  {
   "cell_type": "markdown",
   "id": "702da12f-0c9c-4f6e-b9f3-02aafb1fc6f3",
   "metadata": {},
   "source": [
    "## 3. Using `DraggableHLine` and `DraggableVLine`\n",
    "\n",
    "You can also use either the `DraggableHLine` or `DraggableVLine` subclasses to accomplish the same. These subclasses three advantages over using a raw `DraggableLine`.\n",
    "\n",
    "1. They use a different matplotlib transform so they will go to the edges of the plot - like axvline and axhline.\n",
    "2. They adjust the callback to only be passed a single number rather than `(x[0], x[1], y[0], y[1])`.\n",
    "3. You only need to pass a single number on initialization rather than 4 numbers."
   ]
  },
  {
   "cell_type": "code",
   "execution_count": null,
   "id": "cab5fdf6-9da2-4a47-9c01-ff5c7fc6da71",
   "metadata": {
    "tags": []
   },
   "outputs": [],
   "source": [
    "\n",
    "from mpl_draggable_line import DraggableVLine, DraggableHLine\n",
    "\n",
    "fig, axs = plt.subplots(1, 2)\n",
    "\n",
    "dl_h = DraggableHLine(axs[0], .5)\n",
    "dl_v = DraggableVLine(axs[1], .5)\n",
    "\n",
    "def h_callback(y: float):\n",
    "    axs[0].set_title(f\"y pos: {y:0.2f}\")\n",
    "\n",
    "dl_h.on_line_changed(h_callback)\n",
    "\n",
    "def v_callback(x: float):\n",
    "    axs[1].set_title(f\"x pos: {x:0.2f}\")\n",
    "\n",
    "dl_v.on_line_changed(v_callback)\n",
    "plt.show()\n",
    "\n"
   ]
  },
  {
   "cell_type": "code",
   "execution_count": null,
   "id": "50e2c89e-01fd-4ede-ad10-0616e1863253",
   "metadata": {},
   "outputs": [],
   "source": []
  }
 ],
 "metadata": {
  "kernelspec": {
   "display_name": "Python 3 (ipykernel)",
   "language": "python",
   "name": "python3"
  },
  "language_info": {
   "codemirror_mode": {
    "name": "ipython",
    "version": 3
   },
   "file_extension": ".py",
   "mimetype": "text/x-python",
   "name": "python",
   "nbconvert_exporter": "python",
   "pygments_lexer": "ipython3",
   "version": "3.9.9"
  }
 },
 "nbformat": 4,
 "nbformat_minor": 5
}

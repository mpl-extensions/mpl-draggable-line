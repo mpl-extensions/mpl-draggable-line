{
 "cells": [
  {
   "cell_type": "markdown",
   "id": "cdf469e7-0110-4b75-97d5-69c25aa290f5",
   "metadata": {},
   "source": [
    "# Example\n",
    "\n",
    "You can create a DraggableLine on any interactive plot by passing it the `ax` and initial positions."
   ]
  },
  {
   "cell_type": "code",
   "execution_count": null,
   "id": "4a694f4d-ba0d-4ea4-b15e-db17a2fa8e61",
   "metadata": {
    "tags": []
   },
   "outputs": [],
   "source": [
    "# choose backend if in a jupyter notebook\n",
    "%matplotlib widget\n",
    "\n",
    "from __future__ import annotations\n",
    "import matplotlib.pyplot as plt\n",
    "from mpl_draggable_line import DraggableLine, DraggableVLine\n",
    "\n",
    "\n",
    "fig, ax = plt.subplots()\n",
    "\n",
    "init_x = [50, 0.5]\n",
    "init_y = [0.25, 0.5]\n",
    "dl = DraggableLine(ax, init_x, init_y)"
   ]
  },
  {
   "cell_type": "markdown",
   "id": "a340fd27-85ef-4c3c-bfb5-f1783a9a166d",
   "metadata": {},
   "source": [
    "## Callbacks\n",
    "\n",
    "You can connect functions to receive callbacks whenver the line is moved using the `on_line_changed` function."
   ]
  },
  {
   "cell_type": "code",
   "execution_count": null,
   "id": "d6e20593-ad30-41cb-b6f7-baaf12c81c83",
   "metadata": {
    "tags": []
   },
   "outputs": [],
   "source": [
    "def my_callback(x: list[float, float], y: list[float, float]):\n",
    "    print(x, y)\n",
    "\n",
    "dl.on_line_changed(my_callback)"
   ]
  },
  {
   "cell_type": "markdown",
   "id": "08d19a3e-93da-4a4a-83c2-5e7abf1da4c6",
   "metadata": {},
   "source": []
  }
 ],
 "metadata": {
  "kernelspec": {
   "display_name": "Python 3 (ipykernel)",
   "language": "python",
   "name": "python3"
  },
  "language_info": {
   "codemirror_mode": {
    "name": "ipython",
    "version": 3
   },
   "file_extension": ".py",
   "mimetype": "text/x-python",
   "name": "python",
   "nbconvert_exporter": "python",
   "pygments_lexer": "ipython3",
   "version": "3.9.9"
  }
 },
 "nbformat": 4,
 "nbformat_minor": 5
}

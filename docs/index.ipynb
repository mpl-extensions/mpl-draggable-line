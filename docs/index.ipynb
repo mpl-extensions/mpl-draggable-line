{
 "cells": [
  {
   "cell_type": "markdown",
   "id": "1e97b3aa-03ad-4de0-9ad1-8e073e719b5d",
   "metadata": {},
   "source": [
    "# mpl-draggable-line's Documentation\n",
    "\n",
    "Draggable Line Widget for Matplotlib\n",
    "\n",
    "\n",
    "![a line being dragged around in an empty plot](_static/simple-demo.apng)\n",
    "\n",
    "## Install\n",
    "```bash\n",
    "pip install mpl-draggable-line\n",
    "```\n",
    "\n",
    "## Basic Usage"
   ]
  },
  {
   "cell_type": "code",
   "execution_count": null,
   "id": "1fffca68-2e56-4025-a441-bbdfdb012465",
   "metadata": {
    "tags": []
   },
   "outputs": [],
   "source": [
    "# for when running in a notebook\n",
    "%matplotlib widget \n",
    "\n",
    "import matplotlib.pyplot as plt\n",
    "from mpl_draggable_line import DraggableLine\n",
    "fig, ax = plt.subplots()\n",
    "\n",
    "init_x = [0.25, 0.5]\n",
    "init_y = [0.25, 0.5]\n",
    "\n",
    "dl = DraggableLine(ax, init_x, init_y)\n",
    "plt.show(block=False)\n"
   ]
  },
  {
   "cell_type": "markdown",
   "id": "66919c8d-b22e-4168-ba29-01b2e6b91b8c",
   "metadata": {},
   "source": [
    "```{toctree}\n",
    ":maxdepth: 2\n",
    "\n",
    "API <api/mpl_draggable_line>\n",
    "contributing\n",
    "```\n",
    "\n",
    "```{toctree}\n",
    ":caption: Examples\n",
    ":maxdepth: 1\n",
    "\n",
    "examples/example.ipynb\n",
    "examples/constraining.ipynb\n",
    "```"
   ]
  }
 ],
 "metadata": {
  "kernelspec": {
   "display_name": "Python 3 (ipykernel)",
   "language": "python",
   "name": "python3"
  },
  "language_info": {
   "codemirror_mode": {
    "name": "ipython",
    "version": 3
   },
   "file_extension": ".py",
   "mimetype": "text/x-python",
   "name": "python",
   "nbconvert_exporter": "python",
   "pygments_lexer": "ipython3",
   "version": "3.9.9"
  }
 },
 "nbformat": 4,
 "nbformat_minor": 5
}
